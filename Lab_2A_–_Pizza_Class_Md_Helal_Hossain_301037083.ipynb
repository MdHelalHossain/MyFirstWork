{
  "nbformat": 4,
  "nbformat_minor": 0,
  "metadata": {
    "colab": {
      "name": "Lab 2A – Pizza Class_Md_Helal_Hossain_301037083.ipynb",
      "provenance": [],
      "authorship_tag": "ABX9TyPr1JtMgGNXbxPRajps4Jyw",
      "include_colab_link": true
    },
    "kernelspec": {
      "name": "python3",
      "display_name": "Python 3"
    },
    "language_info": {
      "name": "python"
    }
  },
  "cells": [
    {
      "cell_type": "markdown",
      "metadata": {
        "id": "view-in-github",
        "colab_type": "text"
      },
      "source": [
        "<a href=\"https://colab.research.google.com/github/MdHelalHossain/MyFirstWork/blob/main/Lab_2A_%E2%80%93_Pizza_Class_Md_Helal_Hossain_301037083.ipynb\" target=\"_parent\"><img src=\"https://colab.research.google.com/assets/colab-badge.svg\" alt=\"Open In Colab\"/></a>"
      ]
    },
    {
      "cell_type": "code",
      "execution_count": 2,
      "metadata": {
        "colab": {
          "base_uri": "https://localhost:8080/"
        },
        "id": "SjZ79Ag6UefO",
        "outputId": "72826ffb-1f60-4cac-fc28-683f2cd40d57"
      },
      "outputs": [
        {
          "output_type": "stream",
          "name": "stdout",
          "text": [
            "Md Helal Hossain\n",
            "SID:301037083\n",
            "COMP216-001\n",
            "January 24th 2022\n"
          ]
        }
      ],
      "source": [
        "#@title COMP216 Lab exercise 2.\n",
        "# Please save this notebook as your name\n",
        "#\n",
        "# Please insert your name, student number, course and date\n",
        "print(f'Md Helal Hossain')\n",
        "print(f'SID:301037083')\n",
        "print(f'COMP216-001')\n",
        "print(f'January 24th 2022')\n",
        "# is the proper spots below.\n",
        "#\n",
        "# copyrights Narendra Pershad\n",
        "#"
      ]
    },
    {
      "cell_type": "code",
      "source": [
        "from typing import List\n",
        "\n",
        "class Pizza:\n",
        "    size_dict = {'small': 6.49, 'medium': 8.49, 'large': 10.49, 'x-large': 13.49}\n",
        "    PER_TOPPING_COST = 0.5\n",
        "\n",
        "    def __init__(self, size='medium', toppings=['cheese']):\n",
        "        self.size = size\n",
        "        self.__toppings = toppings\n",
        "    \n",
        "    def add(self, toppings: List[str]):\n",
        "        self.__toppings.extend(toppings)\n",
        "\n",
        "    @property\n",
        "    def size(self):\n",
        "        return self._temperature\n",
        "\n",
        "    @size.setter\n",
        "    def size(self, size):\n",
        "        if size not in Pizza.size_dict:\n",
        "            raise ValueError(f'ERROR: {size} is not a valid size for a pizza')\n",
        "        \n",
        "        self.__size = size\n",
        "\n",
        "    @property\n",
        "    def cost(self):\n",
        "        return Pizza.size_dict[(self.__size)] + len(self.__toppings) * Pizza.PER_TOPPING_COST\n",
        "\n",
        "    def __str__(self):\n",
        "        return f'{self.__size} pizza with {self.__toppings} for ${self.cost:.2f}'"
      ],
      "metadata": {
        "id": "7V3kbdp3U-sm"
      },
      "execution_count": 3,
      "outputs": []
    },
    {
      "cell_type": "code",
      "source": [
        "print(f'Creating a default pizza')\n",
        "p = Pizza()\n",
        "print(p)\n",
        "\n",
        "toppings = 'cheese olive'.split()\n",
        "print(f'\\nAdding topping: {toppings}')\n",
        "p.add(toppings=toppings)\n",
        "print(p)\n",
        "\n",
        "print(f'\\nCreating a new pizza')\n",
        "p = Pizza('large', 'cheese pepper'.split())\n",
        "print(p)\n",
        "\n",
        "toppings = ['pineapple', 'mushroom']\n",
        "print(f'\\nAdding topping: {toppings}')\n",
        "p.add(toppings)\n",
        "print(p)\n",
        "\n",
        "size = 'x-large'\n",
        "p.size = size\n",
        "print(f'\\nChanging order size to {size}')\n",
        "print(p)\n",
        "\n",
        "size = 'gigantic'\n",
        "print(f'\\nChanging order size to {size}')\n",
        "try:\n",
        "  p.size = size\n",
        "except ValueError as err:\n",
        "  print(err) "
      ],
      "metadata": {
        "colab": {
          "base_uri": "https://localhost:8080/"
        },
        "id": "7BO09jItVEu1",
        "outputId": "038ce59b-b8d4-442d-948e-255b5aa48e6b"
      },
      "execution_count": 4,
      "outputs": [
        {
          "output_type": "stream",
          "name": "stdout",
          "text": [
            "Creating a default pizza\n",
            "medium pizza with ['cheese'] for $8.99\n",
            "\n",
            "Adding topping: ['cheese', 'olive']\n",
            "medium pizza with ['cheese', 'cheese', 'olive'] for $9.99\n",
            "\n",
            "Creating a new pizza\n",
            "large pizza with ['cheese', 'pepper'] for $11.49\n",
            "\n",
            "Adding topping: ['pineapple', 'mushroom']\n",
            "large pizza with ['cheese', 'pepper', 'pineapple', 'mushroom'] for $12.49\n",
            "\n",
            "Changing order size to x-large\n",
            "x-large pizza with ['cheese', 'pepper', 'pineapple', 'mushroom'] for $15.49\n",
            "\n",
            "Changing order size to gigantic\n",
            "ERROR: gigantic is not a valid size for a pizza\n"
          ]
        }
      ]
    }
  ]
}